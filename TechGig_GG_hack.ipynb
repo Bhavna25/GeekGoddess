{
  "nbformat": 4,
  "nbformat_minor": 0,
  "metadata": {
    "colab": {
      "name": "TechGig_GG_hack.ipynb",
      "provenance": [],
      "collapsed_sections": [],
      "toc_visible": true,
      "include_colab_link": true
    },
    "kernelspec": {
      "name": "python3",
      "display_name": "Python 3"
    }
  },
  "cells": [
    {
      "cell_type": "markdown",
      "metadata": {
        "id": "view-in-github",
        "colab_type": "text"
      },
      "source": [
        "<a href=\"https://colab.research.google.com/github/MadhuriKonnur/GeekGoddess/blob/master/TechGig_GG_hack.ipynb\" target=\"_parent\"><img src=\"https://colab.research.google.com/assets/colab-badge.svg\" alt=\"Open In Colab\"/></a>"
      ]
    },
    {
      "cell_type": "markdown",
      "metadata": {
        "id": "sblB-xXY875G",
        "colab_type": "text"
      },
      "source": [
        "** *Credit card approval  prediction**\n",
        "\n",
        "using AutoEncoders , LR and XGB  predicted  m13 label for  loan delinqueny\n",
        "*\n",
        "\n",
        "by Madhuri Konnur"
      ]
    },
    {
      "cell_type": "code",
      "metadata": {
        "id": "fBprt-1Fnfit",
        "colab_type": "code",
        "colab": {}
      },
      "source": [
        "# Code to read csv file into Colaboratory:\n",
        "!pip install -U -q PyDrive\n",
        "from pydrive.auth import GoogleAuth\n",
        "from pydrive.drive import GoogleDrive\n",
        "from google.colab import auth\n",
        "from oauth2client.client import GoogleCredentials\n"
      ],
      "execution_count": 0,
      "outputs": []
    },
    {
      "cell_type": "code",
      "metadata": {
        "id": "eXuWLzaJDJ--",
        "colab_type": "code",
        "colab": {}
      },
      "source": [
        "# Authenticate and create the PyDrive client.\n",
        "auth.authenticate_user()\n",
        "gauth = GoogleAuth()\n",
        "gauth.credentials = GoogleCredentials.get_application_default()\n",
        "drive = GoogleDrive(gauth)"
      ],
      "execution_count": 0,
      "outputs": []
    },
    {
      "cell_type": "code",
      "metadata": {
        "id": "wgSjQ4RwEGJg",
        "colab_type": "code",
        "colab": {
          "base_uri": "https://localhost:8080/",
          "height": 34
        },
        "outputId": "05612a41-cf99-4578-92b7-334a5397b638"
      },
      "source": [
        "# Data  dependencies\n",
        "from keras.layers import Input, Dense\n",
        "from keras.models import Model, Sequential\n",
        "from keras import regularizers\n",
        "from sklearn.model_selection import train_test_split \n",
        "from sklearn.linear_model import LogisticRegression\n",
        "from sklearn.metrics import classification_report, accuracy_score\n",
        "from sklearn.manifold import TSNE\n",
        "from sklearn import preprocessing \n",
        "import matplotlib.pyplot as plt\n",
        "import pandas as pd \n",
        "import numpy as np\n",
        "import seaborn as sns\n",
        "sns.set(style=\"whitegrid\")\n",
        "np.random.seed(203)\n",
        "\n",
        "###\n",
        "\n",
        "from sklearn.model_selection import train_test_split\n",
        "from sklearn.linear_model import LogisticRegression\n",
        "from sklearn.dummy import DummyClassifier\n",
        "from sklearn.metrics import accuracy_score, f1_score, confusion_matrix, recall_score"
      ],
      "execution_count": 4,
      "outputs": [
        {
          "output_type": "stream",
          "text": [
            "Using TensorFlow backend.\n"
          ],
          "name": "stderr"
        }
      ]
    },
    {
      "cell_type": "markdown",
      "metadata": {
        "id": "AedbC801Fnv_",
        "colab_type": "text"
      },
      "source": [
        "access data from google  drive , for  example  from  drive  go to sharable  links  of  ( .csv files ) .\n",
        "Take  test  and  train  data  csv files  shareable  links.\n",
        "paste  it  and  take  out  id's \n",
        "\n",
        "train - https://drive.google.com/open?id=1leP7I4VCJw4huILoIIqf_hJkz_Un2izO\n",
        "test- https://drive.google.com/open?id=11gV9P9VvhI1hBIwbNptJvuCDHi9J2sX0"
      ]
    },
    {
      "cell_type": "code",
      "metadata": {
        "id": "0sUFZA0ipfPm",
        "colab_type": "code",
        "colab": {}
      },
      "source": [
        "# Authenticate and create the PyDrive client.\n",
        "auth.authenticate_user()\n",
        "gauth = GoogleAuth()\n",
        "gauth.credentials = GoogleCredentials.get_application_default()\n",
        "drive = GoogleDrive(gauth)"
      ],
      "execution_count": 0,
      "outputs": []
    },
    {
      "cell_type": "code",
      "metadata": {
        "id": "fvAQn6ZqGvJO",
        "colab_type": "code",
        "colab": {}
      },
      "source": [
        "#Google drive  data access\n",
        "train_downloaded=drive.CreateFile({'id':'1leP7I4VCJw4huILoIIqf_hJkz_Un2izO'})\n",
        "train_downloaded.GetContentFile('train.csv')\n",
        "test_downloaded=drive.CreateFile({'id':'11gV9P9VvhI1hBIwbNptJvuCDHi9J2sX0'})\n",
        "test_downloaded.GetContentFile('test.csv')\n"
      ],
      "execution_count": 0,
      "outputs": []
    },
    {
      "cell_type": "code",
      "metadata": {
        "id": "n-3fmOMkIF2S",
        "colab_type": "code",
        "colab": {}
      },
      "source": [
        "data=pd.read_csv('train.csv')\n",
        "test=pd.read_csv('test.csv')"
      ],
      "execution_count": 0,
      "outputs": []
    },
    {
      "cell_type": "code",
      "metadata": {
        "id": "vjxmKWeLIW6l",
        "colab_type": "code",
        "outputId": "24f19a11-f46a-4b0e-96a3-9834a8ae0abe",
        "colab": {
          "base_uri": "https://localhost:8080/",
          "height": 224
        }
      },
      "source": [
        "data.head()"
      ],
      "execution_count": 8,
      "outputs": [
        {
          "output_type": "execute_result",
          "data": {
            "text/html": [
              "<div>\n",
              "<style scoped>\n",
              "    .dataframe tbody tr th:only-of-type {\n",
              "        vertical-align: middle;\n",
              "    }\n",
              "\n",
              "    .dataframe tbody tr th {\n",
              "        vertical-align: top;\n",
              "    }\n",
              "\n",
              "    .dataframe thead th {\n",
              "        text-align: right;\n",
              "    }\n",
              "</style>\n",
              "<table border=\"1\" class=\"dataframe\">\n",
              "  <thead>\n",
              "    <tr style=\"text-align: right;\">\n",
              "      <th></th>\n",
              "      <th>Key</th>\n",
              "      <th>Male</th>\n",
              "      <th>Age</th>\n",
              "      <th>Debt</th>\n",
              "      <th>Married</th>\n",
              "      <th>BankCustomer</th>\n",
              "      <th>EducationLevel</th>\n",
              "      <th>Ethnicity</th>\n",
              "      <th>YearsEmployed</th>\n",
              "      <th>PriorDefault</th>\n",
              "      <th>Employed</th>\n",
              "      <th>CreditScore</th>\n",
              "      <th>DriversLicense</th>\n",
              "      <th>Citizen</th>\n",
              "      <th>ZipCode</th>\n",
              "      <th>Income</th>\n",
              "      <th>Approved</th>\n",
              "    </tr>\n",
              "  </thead>\n",
              "  <tbody>\n",
              "    <tr>\n",
              "      <th>0</th>\n",
              "      <td>1</td>\n",
              "      <td>?</td>\n",
              "      <td>40.83</td>\n",
              "      <td>3.500</td>\n",
              "      <td>u</td>\n",
              "      <td>g</td>\n",
              "      <td>i</td>\n",
              "      <td>bb</td>\n",
              "      <td>0.500</td>\n",
              "      <td>f</td>\n",
              "      <td>f</td>\n",
              "      <td>0</td>\n",
              "      <td>f</td>\n",
              "      <td>s</td>\n",
              "      <td>1160</td>\n",
              "      <td>0</td>\n",
              "      <td>-</td>\n",
              "    </tr>\n",
              "    <tr>\n",
              "      <th>1</th>\n",
              "      <td>2</td>\n",
              "      <td>?</td>\n",
              "      <td>32.25</td>\n",
              "      <td>1.500</td>\n",
              "      <td>u</td>\n",
              "      <td>g</td>\n",
              "      <td>c</td>\n",
              "      <td>v</td>\n",
              "      <td>0.250</td>\n",
              "      <td>f</td>\n",
              "      <td>f</td>\n",
              "      <td>0</td>\n",
              "      <td>t</td>\n",
              "      <td>g</td>\n",
              "      <td>372</td>\n",
              "      <td>122</td>\n",
              "      <td>-</td>\n",
              "    </tr>\n",
              "    <tr>\n",
              "      <th>2</th>\n",
              "      <td>3</td>\n",
              "      <td>?</td>\n",
              "      <td>28.17</td>\n",
              "      <td>0.585</td>\n",
              "      <td>u</td>\n",
              "      <td>g</td>\n",
              "      <td>aa</td>\n",
              "      <td>v</td>\n",
              "      <td>0.040</td>\n",
              "      <td>f</td>\n",
              "      <td>f</td>\n",
              "      <td>0</td>\n",
              "      <td>f</td>\n",
              "      <td>g</td>\n",
              "      <td>260</td>\n",
              "      <td>1004</td>\n",
              "      <td>-</td>\n",
              "    </tr>\n",
              "    <tr>\n",
              "      <th>3</th>\n",
              "      <td>4</td>\n",
              "      <td>?</td>\n",
              "      <td>29.75</td>\n",
              "      <td>0.665</td>\n",
              "      <td>u</td>\n",
              "      <td>g</td>\n",
              "      <td>w</td>\n",
              "      <td>v</td>\n",
              "      <td>0.250</td>\n",
              "      <td>f</td>\n",
              "      <td>f</td>\n",
              "      <td>0</td>\n",
              "      <td>t</td>\n",
              "      <td>g</td>\n",
              "      <td>300</td>\n",
              "      <td>0</td>\n",
              "      <td>-</td>\n",
              "    </tr>\n",
              "    <tr>\n",
              "      <th>4</th>\n",
              "      <td>5</td>\n",
              "      <td>?</td>\n",
              "      <td>26.5</td>\n",
              "      <td>2.710</td>\n",
              "      <td>y</td>\n",
              "      <td>p</td>\n",
              "      <td>?</td>\n",
              "      <td>?</td>\n",
              "      <td>0.085</td>\n",
              "      <td>f</td>\n",
              "      <td>f</td>\n",
              "      <td>0</td>\n",
              "      <td>f</td>\n",
              "      <td>s</td>\n",
              "      <td>80</td>\n",
              "      <td>0</td>\n",
              "      <td>-</td>\n",
              "    </tr>\n",
              "  </tbody>\n",
              "</table>\n",
              "</div>"
            ],
            "text/plain": [
              "   Key Male    Age   Debt  ... Citizen ZipCode Income Approved\n",
              "0    1    ?  40.83  3.500  ...       s    1160      0        -\n",
              "1    2    ?  32.25  1.500  ...       g     372    122        -\n",
              "2    3    ?  28.17  0.585  ...       g     260   1004        -\n",
              "3    4    ?  29.75  0.665  ...       g     300      0        -\n",
              "4    5    ?   26.5  2.710  ...       s      80      0        -\n",
              "\n",
              "[5 rows x 17 columns]"
            ]
          },
          "metadata": {
            "tags": []
          },
          "execution_count": 8
        }
      ]
    },
    {
      "cell_type": "code",
      "metadata": {
        "id": "E8LBiOfyVGzo",
        "colab_type": "code",
        "outputId": "61e9dd5b-92ba-437e-8268-e035668c0d2a",
        "colab": {
          "base_uri": "https://localhost:8080/",
          "height": 51
        }
      },
      "source": [
        "# check out the size of the data\n",
        "print(\"Train data shape:\", data.shape)\n",
        "print(\"Test data shape:\", test.shape)"
      ],
      "execution_count": 9,
      "outputs": [
        {
          "output_type": "stream",
          "text": [
            "Train data shape: (590, 17)\n",
            "Test data shape: (100, 16)\n"
          ],
          "name": "stdout"
        }
      ]
    },
    {
      "cell_type": "code",
      "metadata": {
        "id": "u7xreoKeocdx",
        "colab_type": "code",
        "outputId": "93b34823-af26-4181-88e6-4f9693fb8346",
        "colab": {
          "base_uri": "https://localhost:8080/",
          "height": 421
        }
      },
      "source": [
        "#Checking there is any null value or not\n",
        "plt.figure(figsize=(10, 5))\n",
        "sns.heatmap(data.isnull())"
      ],
      "execution_count": 10,
      "outputs": [
        {
          "output_type": "execute_result",
          "data": {
            "text/plain": [
              "<matplotlib.axes._subplots.AxesSubplot at 0x7ff5aa7e1da0>"
            ]
          },
          "metadata": {
            "tags": []
          },
          "execution_count": 10
        },
        {
          "output_type": "display_data",
          "data": {
            "image/png": "[encoded data removed]",
            "text/plain": [
              "<Figure size 720x360 with 2 Axes>"
            ]
          },
          "metadata": {
            "tags": []
          }
        }
      ]
    },
    {
      "cell_type": "code",
      "metadata": {
        "id": "kI5ZssIpPPxc",
        "colab_type": "code",
        "colab": {
          "base_uri": "https://localhost:8080/",
          "height": 224
        },
        "outputId": "e99861da-cd59-4263-bc24-d5e879f88ddf"
      },
      "source": [
        "data.head()"
      ],
      "execution_count": 47,
      "outputs": [
        {
          "output_type": "execute_result",
          "data": {
            "text/html": [
              "<div>\n",
              "<style scoped>\n",
              "    .dataframe tbody tr th:only-of-type {\n",
              "        vertical-align: middle;\n",
              "    }\n",
              "\n",
              "    .dataframe tbody tr th {\n",
              "        vertical-align: top;\n",
              "    }\n",
              "\n",
              "    .dataframe thead th {\n",
              "        text-align: right;\n",
              "    }\n",
              "</style>\n",
              "<table border=\"1\" class=\"dataframe\">\n",
              "  <thead>\n",
              "    <tr style=\"text-align: right;\">\n",
              "      <th></th>\n",
              "      <th>Key</th>\n",
              "      <th>Male</th>\n",
              "      <th>Age</th>\n",
              "      <th>Debt</th>\n",
              "      <th>Married</th>\n",
              "      <th>BankCustomer</th>\n",
              "      <th>EducationLevel</th>\n",
              "      <th>Ethnicity</th>\n",
              "      <th>YearsEmployed</th>\n",
              "      <th>PriorDefault</th>\n",
              "      <th>Employed</th>\n",
              "      <th>CreditScore</th>\n",
              "      <th>DriversLicense</th>\n",
              "      <th>Citizen</th>\n",
              "      <th>ZipCode</th>\n",
              "      <th>Income</th>\n",
              "      <th>Approved</th>\n",
              "    </tr>\n",
              "  </thead>\n",
              "  <tbody>\n",
              "    <tr>\n",
              "      <th>0</th>\n",
              "      <td>1</td>\n",
              "      <td>0</td>\n",
              "      <td>231</td>\n",
              "      <td>3.500</td>\n",
              "      <td>2</td>\n",
              "      <td>1</td>\n",
              "      <td>7</td>\n",
              "      <td>1</td>\n",
              "      <td>0.500</td>\n",
              "      <td>0</td>\n",
              "      <td>0</td>\n",
              "      <td>0</td>\n",
              "      <td>0</td>\n",
              "      <td>2</td>\n",
              "      <td>6</td>\n",
              "      <td>0</td>\n",
              "      <td>1</td>\n",
              "    </tr>\n",
              "    <tr>\n",
              "      <th>1</th>\n",
              "      <td>2</td>\n",
              "      <td>0</td>\n",
              "      <td>163</td>\n",
              "      <td>1.500</td>\n",
              "      <td>2</td>\n",
              "      <td>1</td>\n",
              "      <td>2</td>\n",
              "      <td>8</td>\n",
              "      <td>0.250</td>\n",
              "      <td>0</td>\n",
              "      <td>0</td>\n",
              "      <td>0</td>\n",
              "      <td>1</td>\n",
              "      <td>0</td>\n",
              "      <td>95</td>\n",
              "      <td>122</td>\n",
              "      <td>1</td>\n",
              "    </tr>\n",
              "    <tr>\n",
              "      <th>2</th>\n",
              "      <td>3</td>\n",
              "      <td>0</td>\n",
              "      <td>124</td>\n",
              "      <td>0.585</td>\n",
              "      <td>2</td>\n",
              "      <td>1</td>\n",
              "      <td>1</td>\n",
              "      <td>8</td>\n",
              "      <td>0.040</td>\n",
              "      <td>0</td>\n",
              "      <td>0</td>\n",
              "      <td>0</td>\n",
              "      <td>0</td>\n",
              "      <td>0</td>\n",
              "      <td>63</td>\n",
              "      <td>1004</td>\n",
              "      <td>1</td>\n",
              "    </tr>\n",
              "    <tr>\n",
              "      <th>3</th>\n",
              "      <td>4</td>\n",
              "      <td>0</td>\n",
              "      <td>139</td>\n",
              "      <td>0.665</td>\n",
              "      <td>2</td>\n",
              "      <td>1</td>\n",
              "      <td>13</td>\n",
              "      <td>8</td>\n",
              "      <td>0.250</td>\n",
              "      <td>0</td>\n",
              "      <td>0</td>\n",
              "      <td>0</td>\n",
              "      <td>1</td>\n",
              "      <td>0</td>\n",
              "      <td>75</td>\n",
              "      <td>0</td>\n",
              "      <td>1</td>\n",
              "    </tr>\n",
              "    <tr>\n",
              "      <th>4</th>\n",
              "      <td>5</td>\n",
              "      <td>0</td>\n",
              "      <td>107</td>\n",
              "      <td>2.710</td>\n",
              "      <td>3</td>\n",
              "      <td>3</td>\n",
              "      <td>0</td>\n",
              "      <td>0</td>\n",
              "      <td>0.085</td>\n",
              "      <td>0</td>\n",
              "      <td>0</td>\n",
              "      <td>0</td>\n",
              "      <td>0</td>\n",
              "      <td>2</td>\n",
              "      <td>144</td>\n",
              "      <td>0</td>\n",
              "      <td>1</td>\n",
              "    </tr>\n",
              "  </tbody>\n",
              "</table>\n",
              "</div>"
            ],
            "text/plain": [
              "   Key  Male  Age   Debt  ...  Citizen  ZipCode  Income  Approved\n",
              "0    1     0  231  3.500  ...        2        6       0         1\n",
              "1    2     0  163  1.500  ...        0       95     122         1\n",
              "2    3     0  124  0.585  ...        0       63    1004         1\n",
              "3    4     0  139  0.665  ...        0       75       0         1\n",
              "4    5     0  107  2.710  ...        2      144       0         1\n",
              "\n",
              "[5 rows x 17 columns]"
            ]
          },
          "metadata": {
            "tags": []
          },
          "execution_count": 47
        }
      ]
    },
    {
      "cell_type": "markdown",
      "metadata": {
        "id": "qKdRIp07on5Z",
        "colab_type": "text"
      },
      "source": [
        "No Missing  data"
      ]
    },
    {
      "cell_type": "code",
      "metadata": {
        "id": "l2S1VMCooubh",
        "colab_type": "code",
        "outputId": "e4675364-748f-4d04-ddeb-0374d32608fc",
        "colab": {
          "base_uri": "https://localhost:8080/",
          "height": 323
        }
      },
      "source": [
        "data.dtypes"
      ],
      "execution_count": 11,
      "outputs": [
        {
          "output_type": "execute_result",
          "data": {
            "text/plain": [
              "Key                 int64\n",
              "Male               object\n",
              "Age                object\n",
              "Debt              float64\n",
              "Married            object\n",
              "BankCustomer       object\n",
              "EducationLevel     object\n",
              "Ethnicity          object\n",
              "YearsEmployed     float64\n",
              "PriorDefault       object\n",
              "Employed           object\n",
              "CreditScore         int64\n",
              "DriversLicense     object\n",
              "Citizen            object\n",
              "ZipCode            object\n",
              "Income              int64\n",
              "Approved           object\n",
              "dtype: object"
            ]
          },
          "metadata": {
            "tags": []
          },
          "execution_count": 11
        }
      ]
    },
    {
      "cell_type": "markdown",
      "metadata": {
        "id": "cmDFhv_1paMU",
        "colab_type": "text"
      },
      "source": [
        "Encoding string to intiger ( Categoriacal object to intiger)"
      ]
    },
    {
      "cell_type": "code",
      "metadata": {
        "id": "AF5lp_BXpQBV",
        "colab_type": "code",
        "colab": {}
      },
      "source": [
        "cols = ('Male', 'Age', 'Married',\n",
        "       'BankCustomer', 'EducationLevel','Ethnicity','PriorDefault','Employed','DriversLicense','Citizen','ZipCode','Approved')\n",
        "# removing 'Approved ' for test  data\n",
        "cols1 = ('Male', 'Age', 'Married',\n",
        "       'BankCustomer', 'EducationLevel','Ethnicity','PriorDefault','Employed','DriversLicense','Citizen','ZipCode')\n"
      ],
      "execution_count": 0,
      "outputs": []
    },
    {
      "cell_type": "code",
      "metadata": {
        "id": "iYJKtBDWpznI",
        "colab_type": "code",
        "colab": {}
      },
      "source": [
        "from sklearn.preprocessing import LabelEncoder\n",
        "for c in cols:\n",
        "    lbl = LabelEncoder() \n",
        "    lbl.fit(list(data[c].values)) \n",
        "    data[c] = lbl.transform(list(data[c].values))"
      ],
      "execution_count": 0,
      "outputs": []
    },
    {
      "cell_type": "markdown",
      "metadata": {
        "id": "zUocJX91qXx-",
        "colab_type": "text"
      },
      "source": [
        "The dataset consists of 16 anonymized variables,'Key', 'Male', 'Age', 'Married',\n",
        "       'BankCustomer', 'EducationLevel','Ethnicity','PriorDefault','Employed','DriversLicense','Citizen','ZipCode','Approved' etc\n",
        "and 1 target variable - Approved. \n",
        "\n",
        "Total 17 variables\n",
        "       \n",
        "       Let's look at the distribution of target."
      ]
    },
    {
      "cell_type": "code",
      "metadata": {
        "id": "WDbHDMFop9tv",
        "colab_type": "code",
        "outputId": "bae84e00-52db-4576-81de-3e7f72a4f4fa",
        "colab": {
          "base_uri": "https://localhost:8080/",
          "height": 322
        }
      },
      "source": [
        "data['Approved'].value_counts().plot('bar')\n",
        "data['Approved'].value_counts()"
      ],
      "execution_count": 19,
      "outputs": [
        {
          "output_type": "execute_result",
          "data": {
            "text/plain": [
              "1    358\n",
              "0    232\n",
              "Name: Approved, dtype: int64"
            ]
          },
          "metadata": {
            "tags": []
          },
          "execution_count": 19
        },
        {
          "output_type": "display_data",
          "data": {
            "image/png": "[encoded data removed]",
            "text/plain": [
              "<Figure size 432x288 with 1 Axes>"
            ]
          },
          "metadata": {
            "tags": []
          }
        }
      ]
    },
    {
      "cell_type": "code",
      "metadata": {
        "id": "55m9Cvtprjya",
        "colab_type": "code",
        "outputId": "71ead4a5-fd13-4cde-804c-9c76ddde7ff3",
        "colab": {
          "base_uri": "https://localhost:8080/",
          "height": 111
        }
      },
      "source": [
        "vc = data['Approved'].value_counts().to_frame().reset_index()\n",
        "vc['percent'] = vc[\"Approved\"].apply(lambda x : round(100*float(x) / len(data), 2))\n",
        "vc = vc.rename(columns = {\"index\" : \"Target\", \"Approved\" : \"Count\"})\n",
        "vc"
      ],
      "execution_count": 20,
      "outputs": [
        {
          "output_type": "execute_result",
          "data": {
            "text/html": [
              "<div>\n",
              "<style scoped>\n",
              "    .dataframe tbody tr th:only-of-type {\n",
              "        vertical-align: middle;\n",
              "    }\n",
              "\n",
              "    .dataframe tbody tr th {\n",
              "        vertical-align: top;\n",
              "    }\n",
              "\n",
              "    .dataframe thead th {\n",
              "        text-align: right;\n",
              "    }\n",
              "</style>\n",
              "<table border=\"1\" class=\"dataframe\">\n",
              "  <thead>\n",
              "    <tr style=\"text-align: right;\">\n",
              "      <th></th>\n",
              "      <th>Target</th>\n",
              "      <th>Count</th>\n",
              "      <th>percent</th>\n",
              "    </tr>\n",
              "  </thead>\n",
              "  <tbody>\n",
              "    <tr>\n",
              "      <th>0</th>\n",
              "      <td>1</td>\n",
              "      <td>358</td>\n",
              "      <td>60.68</td>\n",
              "    </tr>\n",
              "    <tr>\n",
              "      <th>1</th>\n",
              "      <td>0</td>\n",
              "      <td>232</td>\n",
              "      <td>39.32</td>\n",
              "    </tr>\n",
              "  </tbody>\n",
              "</table>\n",
              "</div>"
            ],
            "text/plain": [
              "   Target  Count  percent\n",
              "0       1    358    60.68\n",
              "1       0    232    39.32"
            ]
          },
          "metadata": {
            "tags": []
          },
          "execution_count": 20
        }
      ]
    },
    {
      "cell_type": "markdown",
      "metadata": {
        "id": "0kMhsq36r6f8",
        "colab_type": "text"
      },
      "source": [
        "One of the  challenge of this problem is that the target is slightly imbalanced as 39.32 % cases are approved transactions. But the advantage of the representation learning approach is that it is still able to handle such imbalance nature of the problems. We will look how. For our use-case let's take only about 100 rows of not-approved transactions."
      ]
    },
    {
      "cell_type": "markdown",
      "metadata": {
        "id": "Mz6HZpKwsa2F",
        "colab_type": "text"
      },
      "source": [
        "*Consider* only 232 rows of approved cases"
      ]
    },
    {
      "cell_type": "code",
      "metadata": {
        "id": "iOef0i_bsQYC",
        "colab_type": "code",
        "colab": {}
      },
      "source": [
        "app = data[data['Approved'] ==0].sample(232)\n",
        "not_app = data[data['Approved'] == 1]\n",
        "\n",
        "df = app.append(not_app).sample(frac=1).reset_index(drop=True)\n",
        "X = df.drop(['Approved'], axis = 1).values\n",
        "Y = df[\"Approved\"].values"
      ],
      "execution_count": 0,
      "outputs": []
    },
    {
      "cell_type": "markdown",
      "metadata": {
        "id": "aTnPhKYBtayR",
        "colab_type": "text"
      },
      "source": [
        "**Visualize Delinquency and NonDelinquency Transactions**\n",
        "\n",
        "Let's visualize the nature of Approved(app) and not-app transactions using T-SNE. T-SNE (t-Distributed Stochastic Neighbor Embedding) is a dataset decomposition technique which reduced the dimentions of data and produces only top n components with maximum information.\n",
        "\n",
        "Every dot in the following represents a transaction. Not approved transactions are represented as Red while Approved transactions are represented as Green. The two axis are the components extracted by tsne."
      ]
    },
    {
      "cell_type": "code",
      "metadata": {
        "id": "13dAF6kOuUUb",
        "colab_type": "code",
        "outputId": "669ce782-020a-4d12-e091-a7535cf9a311",
        "colab": {
          "base_uri": "https://localhost:8080/",
          "height": 491
        }
      },
      "source": [
        "def tsne_plot(x1, y1, name=\"graph.png\"):\n",
        "    tsne = TSNE(n_components=2, random_state=0)\n",
        "    X_t = tsne.fit_transform(x1)\n",
        "\n",
        "    plt.figure(figsize=(12, 8))\n",
        "    plt.scatter(X_t[np.where(y1 == 0), 0], X_t[np.where(y1 == 0), 1], marker='o', color='r', linewidth='1', alpha=0.8, label='not app')\n",
        "    plt.scatter(X_t[np.where(y1 == 1), 0], X_t[np.where(y1 == 1), 1], marker='o', color='g', linewidth='1', alpha=0.8, label='app')\n",
        "\n",
        "    plt.legend(loc='best');\n",
        "    plt.savefig(name);\n",
        "    plt.show();\n",
        "    \n",
        "tsne_plot(X, Y, \"original.png\")\n"
      ],
      "execution_count": 170,
      "outputs": [
        {
          "output_type": "display_data",
          "data": {
            "image/png": "[encoded data removed]",
            "text/plain": [
              "<Figure size 864x576 with 1 Axes>"
            ]
          },
          "metadata": {
            "tags": []
          }
        }
      ]
    },
    {
      "cell_type": "markdown",
      "metadata": {
        "id": "l2WgTRQYvbsH",
        "colab_type": "text"
      },
      "source": [
        "From the above graph we can observe that there are many \"Approved\" transactions which are very close to \"not_approved\" transactions, thus are difficult to accurately classify from a model."
      ]
    },
    {
      "cell_type": "markdown",
      "metadata": {
        "id": "frSCAqgnv944",
        "colab_type": "text"
      },
      "source": [
        "**AutoEncoders to the rescue**\n",
        "\n",
        "What are Autoencoders? - Autoencoders are a special type of neural network architectures in which the output is same as the input. Autoencoders are trained in an unsupervised manner in order to learn the exteremely low level repersentations of the input data. These low level features are then deformed back to project the actual data. An autoencoder is a regression task where the network is asked to predict its input (in other words, model the identity function). These networks has a tight bottleneck of a few neurons in the middle, forcing them to create effective representations that compress the input into a low-dimensional code that can be used by the decoder to reproduce the original input.\n",
        "\n",
        "\n"
      ]
    },
    {
      "cell_type": "markdown",
      "metadata": {
        "id": "0ltGCU0cwUqM",
        "colab_type": "text"
      },
      "source": [
        " create an autoencoder model in which we only show the model non-dlq cases. The model will try to learn the best representation of non-dlq cases. The same model will be used to generate the representations of dlq cases and we expect them to be different from non-dlq ones.\n",
        "\n",
        "Create a network with one input layer and one output layer having identical dimentions ie. the shape of non-dlq cases. We will use keras package."
      ]
    },
    {
      "cell_type": "code",
      "metadata": {
        "id": "JOpuYHgbvzti",
        "colab_type": "code",
        "colab": {}
      },
      "source": [
        "## input layer \n",
        "input_layer = Input(shape=(X.shape[1],))\n",
        "\n",
        "\n",
        "## encoding part\n",
        "#encoded = Dense(100, activation='tanh', activity_regularizer=regularizers.l1(10e-5))(input_layer)\n",
        "#encoded = Dense(50, activation='relu')(encoded)\n",
        "encoded = Dense(150, activation='tanh', activity_regularizer=regularizers.l1(10e-5))(input_layer)\n",
        "encoded = Dense(100, activation='relu')(encoded)\n",
        "encoded = Dense(50, activation='relu')(encoded)\n",
        "\n",
        "## decoding part\n",
        "#decoded = Dense(50, activation='tanh')(encoded)\n",
        "#decoded = Dense(100, activation='tanh')(decoded)\n",
        "decoded = Dense(50, activation='tanh')(encoded)\n",
        "decoded = Dense(100, activation='tanh')(decoded)\n",
        "decoded = Dense(150, activation='tanh')(decoded)\n",
        "\n",
        "## output layer\n",
        "output_layer = Dense(X.shape[1], activation='relu')(decoded)"
      ],
      "execution_count": 0,
      "outputs": []
    },
    {
      "cell_type": "markdown",
      "metadata": {
        "id": "7qfnOprww9Wo",
        "colab_type": "text"
      },
      "source": [
        "Create the model architecture by compiling input layer and output layers. Also add the optimizer and loss function, I am using \"adadelta\" as the optimizer and \"mse\" as the loss function."
      ]
    },
    {
      "cell_type": "code",
      "metadata": {
        "id": "IDsetxmpxiP3",
        "colab_type": "code",
        "colab": {}
      },
      "source": [
        "autoencoder = Model(input_layer, output_layer)\n",
        "autoencoder.compile(optimizer=\"adadelta\", loss=\"mse\")"
      ],
      "execution_count": 0,
      "outputs": []
    },
    {
      "cell_type": "markdown",
      "metadata": {
        "id": "2-TN0pP4xrgo",
        "colab_type": "text"
      },
      "source": [
        "Before training, let's perform min max scaling."
      ]
    },
    {
      "cell_type": "code",
      "metadata": {
        "id": "jhqOSA74xtrp",
        "colab_type": "code",
        "colab": {}
      },
      "source": [
        "x = data.drop([\"Approved\"], axis=1)\n",
        "y = data[\"Approved\"].values\n",
        "\n",
        "x_scale = preprocessing.MinMaxScaler().fit_transform(x.values)\n",
        "\n",
        "x_norm, x_app = x_scale[y == 0], x_scale[y == 1]\n",
        "\n"
      ],
      "execution_count": 0,
      "outputs": []
    },
    {
      "cell_type": "markdown",
      "metadata": {
        "id": "LayJiJifyL1c",
        "colab_type": "text"
      },
      "source": [
        "The beauty of this approach is that we do not need too many samples of data for learning the good representations. We will use only 200 rows of not approved cases to train the autoencoder. Additionally, We do not need to run this model for a large number of epochs.\n",
        "\n",
        "Explanation: The choice of small samples from the original dataset is based on the intuition that one class characteristics (not approved) will differ from that of the other (approved). To distinguish these characteristics we need to show the autoencoders only one class of data. This is because the autoencoder will try to learn only one class and automaticlly distinuish the other class."
      ]
    },
    {
      "cell_type": "code",
      "metadata": {
        "id": "tMrZBt1HyiJu",
        "colab_type": "code",
        "outputId": "55ac36e5-e6f5-4f0a-8943-d78d86e15012",
        "colab": {
          "base_uri": "https://localhost:8080/",
          "height": 374
        }
      },
      "source": [
        "autoencoder.fit(x_norm[0:200], x_norm[0:200], \n",
        "                batch_size =10, epochs =10, \n",
        "                shuffle = True, validation_split = 0.20);"
      ],
      "execution_count": 174,
      "outputs": [
        {
          "output_type": "stream",
          "text": [
            "Train on 160 samples, validate on 40 samples\n",
            "Epoch 1/10\n",
            "160/160 [==============================] - 1s 7ms/step - loss: 0.2224 - val_loss: 0.1878\n",
            "Epoch 2/10\n",
            "160/160 [==============================] - 0s 455us/step - loss: 0.2816 - val_loss: 0.3619\n",
            "Epoch 3/10\n",
            "160/160 [==============================] - 0s 339us/step - loss: 0.3732 - val_loss: 0.4004\n",
            "Epoch 4/10\n",
            "160/160 [==============================] - 0s 392us/step - loss: 0.3796 - val_loss: 0.4014\n",
            "Epoch 5/10\n",
            "160/160 [==============================] - 0s 345us/step - loss: 0.3841 - val_loss: 0.4039\n",
            "Epoch 6/10\n",
            "160/160 [==============================] - 0s 358us/step - loss: 0.3711 - val_loss: 0.3794\n",
            "Epoch 7/10\n",
            "160/160 [==============================] - 0s 300us/step - loss: 0.3525 - val_loss: 0.3062\n",
            "Epoch 8/10\n",
            "160/160 [==============================] - 0s 319us/step - loss: 0.2982 - val_loss: 0.2979\n",
            "Epoch 9/10\n",
            "160/160 [==============================] - 0s 303us/step - loss: 0.2845 - val_loss: 0.2802\n",
            "Epoch 10/10\n",
            "160/160 [==============================] - 0s 350us/step - loss: 0.2717 - val_loss: 0.2621\n"
          ],
          "name": "stdout"
        }
      ]
    },
    {
      "cell_type": "markdown",
      "metadata": {
        "id": "UHFpErnTy63H",
        "colab_type": "text"
      },
      "source": [
        "**Obtain the Latent Representations**\n",
        "\n",
        "Now, the model is trained. We are intereseted in obtaining latent representation of the input learned by the model. This can be accessed by the weights of the trained model. We will create another network containing sequential layers, and we will only add the trained weights till the third layer where latent representation exists."
      ]
    },
    {
      "cell_type": "code",
      "metadata": {
        "id": "_35HB_KYzHL9",
        "colab_type": "code",
        "colab": {}
      },
      "source": [
        "hidden_representation = Sequential()\n",
        "hidden_representation.add(autoencoder.layers[0])\n",
        "hidden_representation.add(autoencoder.layers[1])\n",
        "hidden_representation.add(autoencoder.layers[2])\n",
        "hidden_representation.add(autoencoder.layers[3]) # this one  added extra can be removed"
      ],
      "execution_count": 0,
      "outputs": []
    },
    {
      "cell_type": "markdown",
      "metadata": {
        "id": "acAi-DbdzcBf",
        "colab_type": "text"
      },
      "source": [
        "Generate the hidden representations of two classes : not_app and app by predicting the raw inputs using the above model."
      ]
    },
    {
      "cell_type": "code",
      "metadata": {
        "id": "CBTrafzQzkgx",
        "colab_type": "code",
        "colab": {}
      },
      "source": [
        "norm_hid_rep = hidden_representation.predict(x_norm[:300])\n",
        "app_hid_rep = hidden_representation.predict(x_app)"
      ],
      "execution_count": 0,
      "outputs": []
    },
    {
      "cell_type": "markdown",
      "metadata": {
        "id": "LNS--gB_0PMT",
        "colab_type": "text"
      },
      "source": [
        "**Visualize the latent representations : Approved Vs Not Approved**\n",
        "\n",
        "Now we will create a training dataset using the latent representations obtained and let's visualize the nature of approved vs not-approved cases."
      ]
    },
    {
      "cell_type": "code",
      "metadata": {
        "id": "rSxwqZzi0j2X",
        "colab_type": "code",
        "outputId": "e83343f0-3b22-4ffb-9438-f1969c3a561e",
        "colab": {
          "base_uri": "https://localhost:8080/",
          "height": 491
        }
      },
      "source": [
        "rep_x = np.append(norm_hid_rep, app_hid_rep, axis = 0)\n",
        "y_n = np.zeros(norm_hid_rep.shape[0])\n",
        "y_f = np.ones(app_hid_rep.shape[0])\n",
        "rep_y = np.append(y_n, y_f)\n",
        "tsne_plot(rep_x, rep_y, \"latent_representation.png\")"
      ],
      "execution_count": 177,
      "outputs": [
        {
          "output_type": "display_data",
          "data": {
            "image/png": "[encoded data removed]",
            "text/plain": [
              "<Figure size 864x576 with 1 Axes>"
            ]
          },
          "metadata": {
            "tags": []
          }
        }
      ]
    },
    {
      "cell_type": "markdown",
      "metadata": {
        "id": "diGemn4bNbb6",
        "colab_type": "text"
      },
      "source": [
        "What a perfect graph, we can observe that now approved and not-approved transactions are pretty visibile and are linearly separable. Now we dont need any complex model to classify this, even the simpler models can be used to predict. Here is the before and after view of approved and Not approved transactions "
      ]
    },
    {
      "cell_type": "code",
      "metadata": {
        "id": "4IfY3Oc92_MM",
        "colab_type": "code",
        "outputId": "61f63f10-305e-4401-dd54-0ad92c3115e1",
        "colab": {
          "resources": {
            "http://localhost:8080/original.png": {
              "data": "CjwhRE9DVFlQRSBodG1sPgo8aHRtbCBsYW5nPWVuPgogIDxtZXRhIGNoYXJzZXQ9dXRmLTg+CiAgPG1ldGEgbmFtZT12aWV3cG9ydCBjb250ZW50PSJpbml0aWFsLXNjYWxlPTEsIG1pbmltdW0tc2NhbGU9MSwgd2lkdGg9ZGV2aWNlLXdpZHRoIj4KICA8dGl0bGU+RXJyb3IgNDA0IChOb3QgRm91bmQpISExPC90aXRsZT4KICA8c3R5bGU+CiAgICAqe21hcmdpbjowO3BhZGRpbmc6MH1odG1sLGNvZGV7Zm9udDoxNXB4LzIycHggYXJpYWwsc2Fucy1zZXJpZn1odG1se2JhY2tncm91bmQ6I2ZmZjtjb2xvcjojMjIyO3BhZGRpbmc6MTVweH1ib2R5e21hcmdpbjo3JSBhdXRvIDA7bWF4LXdpZHRoOjM5MHB4O21pbi1oZWlnaHQ6MTgwcHg7cGFkZGluZzozMHB4IDAgMTVweH0qID4gYm9keXtiYWNrZ3JvdW5kOnVybCgvL3d3dy5nb29nbGUuY29tL2ltYWdlcy9lcnJvcnMvcm9ib3QucG5nKSAxMDAlIDVweCBuby1yZXBlYXQ7cGFkZGluZy1yaWdodDoyMDVweH1we21hcmdpbjoxMXB4IDAgMjJweDtvdmVyZmxvdzpoaWRkZW59aW5ze2NvbG9yOiM3Nzc7dGV4dC1kZWNvcmF0aW9uOm5vbmV9YSBpbWd7Ym9yZGVyOjB9QG1lZGlhIHNjcmVlbiBhbmQgKG1heC13aWR0aDo3NzJweCl7Ym9keXtiYWNrZ3JvdW5kOm5vbmU7bWFyZ2luLXRvcDowO21heC13aWR0aDpub25lO3BhZGRpbmctcmlnaHQ6MH19I2xvZ297YmFja2dyb3VuZDp1cmwoLy93d3cuZ29vZ2xlLmNvbS9pbWFnZXMvbG9nb3MvZXJyb3JwYWdlL2Vycm9yX2xvZ28tMTUweDU0LnBuZykgbm8tcmVwZWF0O21hcmdpbi1sZWZ0Oi01cHh9QG1lZGlhIG9ubHkgc2NyZWVuIGFuZCAobWluLXJlc29sdXRpb246MTkyZHBpKXsjbG9nb3tiYWNrZ3JvdW5kOnVybCgvL3d3dy5nb29nbGUuY29tL2ltYWdlcy9sb2dvcy9lcnJvcnBhZ2UvZXJyb3JfbG9nby0xNTB4NTQtMngucG5nKSBuby1yZXBlYXQgMCUgMCUvMTAwJSAxMDAlOy1tb3otYm9yZGVyLWltYWdlOnVybCgvL3d3dy5nb29nbGUuY29tL2ltYWdlcy9sb2dvcy9lcnJvcnBhZ2UvZXJyb3JfbG9nby0xNTB4NTQtMngucG5nKSAwfX1AbWVkaWEgb25seSBzY3JlZW4gYW5kICgtd2Via2l0LW1pbi1kZXZpY2UtcGl4ZWwtcmF0aW86Mil7I2xvZ297YmFja2dyb3VuZDp1cmwoLy93d3cuZ29vZ2xlLmNvbS9pbWFnZXMvbG9nb3MvZXJyb3JwYWdlL2Vycm9yX2xvZ28tMTUweDU0LTJ4LnBuZykgbm8tcmVwZWF0Oy13ZWJraXQtYmFja2dyb3VuZC1zaXplOjEwMCUgMTAwJX19I2xvZ297ZGlzcGxheTppbmxpbmUtYmxvY2s7aGVpZ2h0OjU0cHg7d2lkdGg6MTUwcHh9CiAgPC9zdHlsZT4KICA8YSBocmVmPS8vd3d3Lmdvb2dsZS5jb20vPjxzcGFuIGlkPWxvZ28gYXJpYS1sYWJlbD1Hb29nbGU+PC9zcGFuPjwvYT4KICA8cD48Yj40MDQuPC9iPiA8aW5zPlRoYXTigJlzIGFuIGVycm9yLjwvaW5zPgogIDxwPiAgPGlucz5UaGF04oCZcyBhbGwgd2Uga25vdy48L2lucz4K",
              "ok": false,
              "headers": [
                [
                  "content-length",
                  "1449"
                ],
                [
                  "content-type",
                  "text/html; charset=utf-8"
                ]
              ],
              "status": 404,
              "status_text": ""
            },
            "http://localhost:8080/latent_representation.png": {
              "data": "CjwhRE9DVFlQRSBodG1sPgo8aHRtbCBsYW5nPWVuPgogIDxtZXRhIGNoYXJzZXQ9dXRmLTg+CiAgPG1ldGEgbmFtZT12aWV3cG9ydCBjb250ZW50PSJpbml0aWFsLXNjYWxlPTEsIG1pbmltdW0tc2NhbGU9MSwgd2lkdGg9ZGV2aWNlLXdpZHRoIj4KICA8dGl0bGU+RXJyb3IgNDA0IChOb3QgRm91bmQpISExPC90aXRsZT4KICA8c3R5bGU+CiAgICAqe21hcmdpbjowO3BhZGRpbmc6MH1odG1sLGNvZGV7Zm9udDoxNXB4LzIycHggYXJpYWwsc2Fucy1zZXJpZn1odG1se2JhY2tncm91bmQ6I2ZmZjtjb2xvcjojMjIyO3BhZGRpbmc6MTVweH1ib2R5e21hcmdpbjo3JSBhdXRvIDA7bWF4LXdpZHRoOjM5MHB4O21pbi1oZWlnaHQ6MTgwcHg7cGFkZGluZzozMHB4IDAgMTVweH0qID4gYm9keXtiYWNrZ3JvdW5kOnVybCgvL3d3dy5nb29nbGUuY29tL2ltYWdlcy9lcnJvcnMvcm9ib3QucG5nKSAxMDAlIDVweCBuby1yZXBlYXQ7cGFkZGluZy1yaWdodDoyMDVweH1we21hcmdpbjoxMXB4IDAgMjJweDtvdmVyZmxvdzpoaWRkZW59aW5ze2NvbG9yOiM3Nzc7dGV4dC1kZWNvcmF0aW9uOm5vbmV9YSBpbWd7Ym9yZGVyOjB9QG1lZGlhIHNjcmVlbiBhbmQgKG1heC13aWR0aDo3NzJweCl7Ym9keXtiYWNrZ3JvdW5kOm5vbmU7bWFyZ2luLXRvcDowO21heC13aWR0aDpub25lO3BhZGRpbmctcmlnaHQ6MH19I2xvZ297YmFja2dyb3VuZDp1cmwoLy93d3cuZ29vZ2xlLmNvbS9pbWFnZXMvbG9nb3MvZXJyb3JwYWdlL2Vycm9yX2xvZ28tMTUweDU0LnBuZykgbm8tcmVwZWF0O21hcmdpbi1sZWZ0Oi01cHh9QG1lZGlhIG9ubHkgc2NyZWVuIGFuZCAobWluLXJlc29sdXRpb246MTkyZHBpKXsjbG9nb3tiYWNrZ3JvdW5kOnVybCgvL3d3dy5nb29nbGUuY29tL2ltYWdlcy9sb2dvcy9lcnJvcnBhZ2UvZXJyb3JfbG9nby0xNTB4NTQtMngucG5nKSBuby1yZXBlYXQgMCUgMCUvMTAwJSAxMDAlOy1tb3otYm9yZGVyLWltYWdlOnVybCgvL3d3dy5nb29nbGUuY29tL2ltYWdlcy9sb2dvcy9lcnJvcnBhZ2UvZXJyb3JfbG9nby0xNTB4NTQtMngucG5nKSAwfX1AbWVkaWEgb25seSBzY3JlZW4gYW5kICgtd2Via2l0LW1pbi1kZXZpY2UtcGl4ZWwtcmF0aW86Mil7I2xvZ297YmFja2dyb3VuZDp1cmwoLy93d3cuZ29vZ2xlLmNvbS9pbWFnZXMvbG9nb3MvZXJyb3JwYWdlL2Vycm9yX2xvZ28tMTUweDU0LTJ4LnBuZykgbm8tcmVwZWF0Oy13ZWJraXQtYmFja2dyb3VuZC1zaXplOjEwMCUgMTAwJX19I2xvZ297ZGlzcGxheTppbmxpbmUtYmxvY2s7aGVpZ2h0OjU0cHg7d2lkdGg6MTUwcHh9CiAgPC9zdHlsZT4KICA8YSBocmVmPS8vd3d3Lmdvb2dsZS5jb20vPjxzcGFuIGlkPWxvZ28gYXJpYS1sYWJlbD1Hb29nbGU+PC9zcGFuPjwvYT4KICA8cD48Yj40MDQuPC9iPiA8aW5zPlRoYXTigJlzIGFuIGVycm9yLjwvaW5zPgogIDxwPiAgPGlucz5UaGF04oCZcyBhbGwgd2Uga25vdy48L2lucz4K",
              "ok": false,
              "headers": [
                [
                  "content-length",
                  "1449"
                ],
                [
                  "content-type",
                  "text/html; charset=utf-8"
                ]
              ],
              "status": 404,
              "status_text": ""
            }
          },
          "base_uri": "https://localhost:8080/",
          "height": 64
        }
      },
      "source": [
        "from IPython.display import display, Image, HTML\n",
        "display(HTML(\"\"\"<table align=\"center\">\n",
        "<tr ><td><b>Actual Representation (Before) </b></td><td><b>Latent Representation (Actual)</b></td></tr>\n",
        "<tr><td><img src='original.png'></td><td>\n",
        "             <img src='latent_representation.png'></td></tr></table>\"\"\"))"
      ],
      "execution_count": 178,
      "outputs": [
        {
          "output_type": "display_data",
          "data": {
            "text/html": [
              "<table align=\"center\">\n",
              "<tr ><td><b>Actual Representation (Before) </b></td><td><b>Latent Representation (Actual)</b></td></tr>\n",
              "<tr><td><img src='original.png'></td><td>\n",
              "             <img src='latent_representation.png'></td></tr></table>"
            ],
            "text/plain": [
              "<IPython.core.display.HTML object>"
            ]
          },
          "metadata": {
            "tags": []
          }
        }
      ]
    },
    {
      "cell_type": "code",
      "metadata": {
        "id": "EjiC08Om9e2e",
        "colab_type": "code",
        "outputId": "b6654ffa-08b6-4355-f9dc-8a38f916c13d",
        "colab": {
          "base_uri": "https://localhost:8080/",
          "height": 241
        }
      },
      "source": [
        "train_x, val_x, train_y, val_y = train_test_split(rep_x, rep_y, test_size=0.20,random_state=43)\n",
        "clf = LogisticRegression(penalty = 'l1',C=0.7, random_state =42).fit(train_x, train_y)\n",
        "pred_y = clf.predict(val_x)\n",
        "\n",
        "print (classification_report(val_y, pred_y))\n",
        "print (accuracy_score(val_y, pred_y))"
      ],
      "execution_count": 179,
      "outputs": [
        {
          "output_type": "stream",
          "text": [
            "              precision    recall  f1-score   support\n",
            "\n",
            "         0.0       0.98      0.89      0.93        46\n",
            "         1.0       0.93      0.99      0.96        72\n",
            "\n",
            "    accuracy                           0.95       118\n",
            "   macro avg       0.96      0.94      0.95       118\n",
            "weighted avg       0.95      0.95      0.95       118\n",
            "\n",
            "0.9491525423728814\n"
          ],
          "name": "stdout"
        },
        {
          "output_type": "stream",
          "text": [
            "/usr/local/lib/python3.6/dist-packages/sklearn/linear_model/logistic.py:432: FutureWarning: Default solver will be changed to 'lbfgs' in 0.22. Specify a solver to silence this warning.\n",
            "  FutureWarning)\n"
          ],
          "name": "stderr"
        }
      ]
    },
    {
      "cell_type": "code",
      "metadata": {
        "id": "CRR1NkYg7ahd",
        "colab_type": "code",
        "outputId": "42342859-861c-488a-fb99-f020f06fda4a",
        "colab": {
          "base_uri": "https://localhost:8080/",
          "height": 34
        }
      },
      "source": [
        "from sklearn.metrics import roc_auc_score\n",
        "# calculate AUC\n",
        "auc = roc_auc_score(val_y, pred_y)\n",
        "print('AUC: %.3f' % auc)"
      ],
      "execution_count": 180,
      "outputs": [
        {
          "output_type": "stream",
          "text": [
            "AUC: 0.939\n"
          ],
          "name": "stdout"
        }
      ]
    },
    {
      "cell_type": "markdown",
      "metadata": {
        "id": "Qn9MTmnenTi5",
        "colab_type": "text"
      },
      "source": [
        "XGB"
      ]
    },
    {
      "cell_type": "code",
      "metadata": {
        "id": "QIbJXMIGnVXC",
        "colab_type": "code",
        "outputId": "065b9b2e-7785-43bb-f19d-a529551ba96e",
        "colab": {
          "base_uri": "https://localhost:8080/",
          "height": 187
        }
      },
      "source": [
        "import xgboost as xgb\n",
        "train_x, val_x, train_y, val_y = train_test_split(rep_x, rep_y, test_size=0.20, random_state=43)\n",
        "clf1 = xgb.XGBClassifier(n_jobs = -1,n_estimators =20,max_depth=10,objective='binary:logistic',scale_pos_weight=5,  gamma=10\n",
        "                      ).fit(train_x, train_y)\n",
        "pred_y = clf1.predict(val_x)\n",
        "\n",
        "print (classification_report(val_y, pred_y))\n",
        "print (accuracy_score(val_y, pred_y))"
      ],
      "execution_count": 181,
      "outputs": [
        {
          "output_type": "stream",
          "text": [
            "              precision    recall  f1-score   support\n",
            "\n",
            "         0.0       0.97      0.80      0.88        46\n",
            "         1.0       0.89      0.99      0.93        72\n",
            "\n",
            "    accuracy                           0.92       118\n",
            "   macro avg       0.93      0.90      0.91       118\n",
            "weighted avg       0.92      0.92      0.91       118\n",
            "\n",
            "0.9152542372881356\n"
          ],
          "name": "stdout"
        }
      ]
    },
    {
      "cell_type": "code",
      "metadata": {
        "id": "RNdGzFfDFovl",
        "colab_type": "code",
        "outputId": "1bea2063-375c-42d5-bd63-0bc0d836898c",
        "colab": {
          "base_uri": "https://localhost:8080/",
          "height": 34
        }
      },
      "source": [
        "# calculate AUC\n",
        "auc = roc_auc_score(val_y, pred_y)\n",
        "print('AUC: %.3f' % auc)"
      ],
      "execution_count": 182,
      "outputs": [
        {
          "output_type": "stream",
          "text": [
            "AUC: 0.895\n"
          ],
          "name": "stdout"
        }
      ]
    },
    {
      "cell_type": "markdown",
      "metadata": {
        "id": "5H_pQOjEI69d",
        "colab_type": "text"
      },
      "source": [
        "Submission"
      ]
    },
    {
      "cell_type": "code",
      "metadata": {
        "id": "JE2oTeiTNOqZ",
        "colab_type": "code",
        "colab": {}
      },
      "source": [
        "# let's scale  test  value \n",
        "\n",
        "# here  also all catagorial vaar to  int\n",
        "# c is  already defined during train data\n",
        "from sklearn.preprocessing import LabelEncoder\n",
        "for c in cols1:\n",
        "    lbl = LabelEncoder() \n",
        "    lbl.fit(list(test[c].values)) \n",
        "    test[c] = lbl.transform(list(test[c].values))\n",
        "    \n",
        "#Standardising  values  like train data\n",
        "\n",
        "scaler = preprocessing.MinMaxScaler()\n",
        "scaler.fit(test.values)\n",
        "test_x_scale = scaler.transform(test.values)"
      ],
      "execution_count": 0,
      "outputs": []
    },
    {
      "cell_type": "code",
      "metadata": {
        "id": "93aQ3uri2Pfz",
        "colab_type": "code",
        "colab": {
          "base_uri": "https://localhost:8080/",
          "height": 204
        },
        "outputId": "61182da1-0025-487d-8d98-fc9ac6618713"
      },
      "source": [
        "temp = pd.DataFrame([])\n",
        "temp['Key']= test['Key']\n",
        "test_rep_x = hidden_representation.predict(test_x_scale)\n",
        "temp['Approved'] = [int(x) for x in clf.predict(test_rep_x)]\n",
        "temp['Approved'].replace([0,1],['+','-'],inplace=True)\n",
        "temp.to_csv(\"submission.csv\", index = False)\n",
        "sub= pd.read_csv(\"submission.csv\")\n",
        "sub.head()\n"
      ],
      "execution_count": 184,
      "outputs": [
        {
          "output_type": "execute_result",
          "data": {
            "text/html": [
              "<div>\n",
              "<style scoped>\n",
              "    .dataframe tbody tr th:only-of-type {\n",
              "        vertical-align: middle;\n",
              "    }\n",
              "\n",
              "    .dataframe tbody tr th {\n",
              "        vertical-align: top;\n",
              "    }\n",
              "\n",
              "    .dataframe thead th {\n",
              "        text-align: right;\n",
              "    }\n",
              "</style>\n",
              "<table border=\"1\" class=\"dataframe\">\n",
              "  <thead>\n",
              "    <tr style=\"text-align: right;\">\n",
              "      <th></th>\n",
              "      <th>Key</th>\n",
              "      <th>Approved</th>\n",
              "    </tr>\n",
              "  </thead>\n",
              "  <tbody>\n",
              "    <tr>\n",
              "      <th>0</th>\n",
              "      <td>1</td>\n",
              "      <td>-</td>\n",
              "    </tr>\n",
              "    <tr>\n",
              "      <th>1</th>\n",
              "      <td>2</td>\n",
              "      <td>-</td>\n",
              "    </tr>\n",
              "    <tr>\n",
              "      <th>2</th>\n",
              "      <td>3</td>\n",
              "      <td>-</td>\n",
              "    </tr>\n",
              "    <tr>\n",
              "      <th>3</th>\n",
              "      <td>4</td>\n",
              "      <td>-</td>\n",
              "    </tr>\n",
              "    <tr>\n",
              "      <th>4</th>\n",
              "      <td>5</td>\n",
              "      <td>-</td>\n",
              "    </tr>\n",
              "  </tbody>\n",
              "</table>\n",
              "</div>"
            ],
            "text/plain": [
              "   Key Approved\n",
              "0    1        -\n",
              "1    2        -\n",
              "2    3        -\n",
              "3    4        -\n",
              "4    5        -"
            ]
          },
          "metadata": {
            "tags": []
          },
          "execution_count": 184
        }
      ]
    },
    {
      "cell_type": "code",
      "metadata": {
        "id": "4hRTK0O25-3E",
        "colab_type": "code",
        "colab": {}
      },
      "source": [
        "# downloading  the submission file directly  (without  google  drive )\n",
        "\n",
        "from google.colab import files\n",
        "files.download('submission.csv')"
      ],
      "execution_count": 0,
      "outputs": []
    },
    {
      "cell_type": "code",
      "metadata": {
        "id": "AfpSLGJW6pMu",
        "colab_type": "code",
        "colab": {
          "base_uri": "https://localhost:8080/",
          "height": 34
        },
        "outputId": "ff3cd2c4-85e2-481d-fbf1-8cad9db21006"
      },
      "source": [
        "sub.shape"
      ],
      "execution_count": 185,
      "outputs": [
        {
          "output_type": "execute_result",
          "data": {
            "text/plain": [
              "(100, 2)"
            ]
          },
          "metadata": {
            "tags": []
          },
          "execution_count": 185
        }
      ]
    }
  ]
}